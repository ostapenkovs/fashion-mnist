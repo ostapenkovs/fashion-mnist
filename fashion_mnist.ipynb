{
 "cells": [
  {
   "cell_type": "code",
   "execution_count": 10,
   "source": [
    "import numpy as np\r\n",
    "import pandas as pd\r\n",
    "import matplotlib.pyplot as plt\r\n",
    "import seaborn as sns"
   ],
   "outputs": [],
   "metadata": {}
  },
  {
   "cell_type": "code",
   "execution_count": 11,
   "source": [
    "# Load Fashion-MNIST dataset downloaded from Kaggle.com\r\n",
    "train = pd.read_csv(\"./data/fashion-mnist_train.zip\") # 60,000 labeled training examples\r\n",
    "test = pd.read_csv(\"./data/fashion-mnist_test.zip\") #10,000 labeled test examples"
   ],
   "outputs": [],
   "metadata": {}
  },
  {
   "cell_type": "code",
   "execution_count": 12,
   "source": [
    "train.head()"
   ],
   "outputs": [
    {
     "output_type": "execute_result",
     "data": {
      "text/plain": [
       "   label  pixel1  pixel2  pixel3  pixel4  pixel5  pixel6  pixel7  pixel8  \\\n",
       "0      2       0       0       0       0       0       0       0       0   \n",
       "1      9       0       0       0       0       0       0       0       0   \n",
       "2      6       0       0       0       0       0       0       0       5   \n",
       "3      0       0       0       0       1       2       0       0       0   \n",
       "4      3       0       0       0       0       0       0       0       0   \n",
       "\n",
       "   pixel9  ...  pixel775  pixel776  pixel777  pixel778  pixel779  pixel780  \\\n",
       "0       0  ...         0         0         0         0         0         0   \n",
       "1       0  ...         0         0         0         0         0         0   \n",
       "2       0  ...         0         0         0        30        43         0   \n",
       "3       0  ...         3         0         0         0         0         1   \n",
       "4       0  ...         0         0         0         0         0         0   \n",
       "\n",
       "   pixel781  pixel782  pixel783  pixel784  \n",
       "0         0         0         0         0  \n",
       "1         0         0         0         0  \n",
       "2         0         0         0         0  \n",
       "3         0         0         0         0  \n",
       "4         0         0         0         0  \n",
       "\n",
       "[5 rows x 785 columns]"
      ],
      "text/html": [
       "<div>\n",
       "<style scoped>\n",
       "    .dataframe tbody tr th:only-of-type {\n",
       "        vertical-align: middle;\n",
       "    }\n",
       "\n",
       "    .dataframe tbody tr th {\n",
       "        vertical-align: top;\n",
       "    }\n",
       "\n",
       "    .dataframe thead th {\n",
       "        text-align: right;\n",
       "    }\n",
       "</style>\n",
       "<table border=\"1\" class=\"dataframe\">\n",
       "  <thead>\n",
       "    <tr style=\"text-align: right;\">\n",
       "      <th></th>\n",
       "      <th>label</th>\n",
       "      <th>pixel1</th>\n",
       "      <th>pixel2</th>\n",
       "      <th>pixel3</th>\n",
       "      <th>pixel4</th>\n",
       "      <th>pixel5</th>\n",
       "      <th>pixel6</th>\n",
       "      <th>pixel7</th>\n",
       "      <th>pixel8</th>\n",
       "      <th>pixel9</th>\n",
       "      <th>...</th>\n",
       "      <th>pixel775</th>\n",
       "      <th>pixel776</th>\n",
       "      <th>pixel777</th>\n",
       "      <th>pixel778</th>\n",
       "      <th>pixel779</th>\n",
       "      <th>pixel780</th>\n",
       "      <th>pixel781</th>\n",
       "      <th>pixel782</th>\n",
       "      <th>pixel783</th>\n",
       "      <th>pixel784</th>\n",
       "    </tr>\n",
       "  </thead>\n",
       "  <tbody>\n",
       "    <tr>\n",
       "      <th>0</th>\n",
       "      <td>2</td>\n",
       "      <td>0</td>\n",
       "      <td>0</td>\n",
       "      <td>0</td>\n",
       "      <td>0</td>\n",
       "      <td>0</td>\n",
       "      <td>0</td>\n",
       "      <td>0</td>\n",
       "      <td>0</td>\n",
       "      <td>0</td>\n",
       "      <td>...</td>\n",
       "      <td>0</td>\n",
       "      <td>0</td>\n",
       "      <td>0</td>\n",
       "      <td>0</td>\n",
       "      <td>0</td>\n",
       "      <td>0</td>\n",
       "      <td>0</td>\n",
       "      <td>0</td>\n",
       "      <td>0</td>\n",
       "      <td>0</td>\n",
       "    </tr>\n",
       "    <tr>\n",
       "      <th>1</th>\n",
       "      <td>9</td>\n",
       "      <td>0</td>\n",
       "      <td>0</td>\n",
       "      <td>0</td>\n",
       "      <td>0</td>\n",
       "      <td>0</td>\n",
       "      <td>0</td>\n",
       "      <td>0</td>\n",
       "      <td>0</td>\n",
       "      <td>0</td>\n",
       "      <td>...</td>\n",
       "      <td>0</td>\n",
       "      <td>0</td>\n",
       "      <td>0</td>\n",
       "      <td>0</td>\n",
       "      <td>0</td>\n",
       "      <td>0</td>\n",
       "      <td>0</td>\n",
       "      <td>0</td>\n",
       "      <td>0</td>\n",
       "      <td>0</td>\n",
       "    </tr>\n",
       "    <tr>\n",
       "      <th>2</th>\n",
       "      <td>6</td>\n",
       "      <td>0</td>\n",
       "      <td>0</td>\n",
       "      <td>0</td>\n",
       "      <td>0</td>\n",
       "      <td>0</td>\n",
       "      <td>0</td>\n",
       "      <td>0</td>\n",
       "      <td>5</td>\n",
       "      <td>0</td>\n",
       "      <td>...</td>\n",
       "      <td>0</td>\n",
       "      <td>0</td>\n",
       "      <td>0</td>\n",
       "      <td>30</td>\n",
       "      <td>43</td>\n",
       "      <td>0</td>\n",
       "      <td>0</td>\n",
       "      <td>0</td>\n",
       "      <td>0</td>\n",
       "      <td>0</td>\n",
       "    </tr>\n",
       "    <tr>\n",
       "      <th>3</th>\n",
       "      <td>0</td>\n",
       "      <td>0</td>\n",
       "      <td>0</td>\n",
       "      <td>0</td>\n",
       "      <td>1</td>\n",
       "      <td>2</td>\n",
       "      <td>0</td>\n",
       "      <td>0</td>\n",
       "      <td>0</td>\n",
       "      <td>0</td>\n",
       "      <td>...</td>\n",
       "      <td>3</td>\n",
       "      <td>0</td>\n",
       "      <td>0</td>\n",
       "      <td>0</td>\n",
       "      <td>0</td>\n",
       "      <td>1</td>\n",
       "      <td>0</td>\n",
       "      <td>0</td>\n",
       "      <td>0</td>\n",
       "      <td>0</td>\n",
       "    </tr>\n",
       "    <tr>\n",
       "      <th>4</th>\n",
       "      <td>3</td>\n",
       "      <td>0</td>\n",
       "      <td>0</td>\n",
       "      <td>0</td>\n",
       "      <td>0</td>\n",
       "      <td>0</td>\n",
       "      <td>0</td>\n",
       "      <td>0</td>\n",
       "      <td>0</td>\n",
       "      <td>0</td>\n",
       "      <td>...</td>\n",
       "      <td>0</td>\n",
       "      <td>0</td>\n",
       "      <td>0</td>\n",
       "      <td>0</td>\n",
       "      <td>0</td>\n",
       "      <td>0</td>\n",
       "      <td>0</td>\n",
       "      <td>0</td>\n",
       "      <td>0</td>\n",
       "      <td>0</td>\n",
       "    </tr>\n",
       "  </tbody>\n",
       "</table>\n",
       "<p>5 rows × 785 columns</p>\n",
       "</div>"
      ]
     },
     "metadata": {},
     "execution_count": 12
    }
   ],
   "metadata": {}
  },
  {
   "cell_type": "code",
   "execution_count": 13,
   "source": [
    "train.info()"
   ],
   "outputs": [
    {
     "output_type": "stream",
     "name": "stdout",
     "text": [
      "<class 'pandas.core.frame.DataFrame'>\n",
      "RangeIndex: 60000 entries, 0 to 59999\n",
      "Columns: 785 entries, label to pixel784\n",
      "dtypes: int64(785)\n",
      "memory usage: 359.3 MB\n"
     ]
    }
   ],
   "metadata": {}
  },
  {
   "cell_type": "code",
   "execution_count": 14,
   "source": [
    "test.head()"
   ],
   "outputs": [
    {
     "output_type": "execute_result",
     "data": {
      "text/plain": [
       "   label  pixel1  pixel2  pixel3  pixel4  pixel5  pixel6  pixel7  pixel8  \\\n",
       "0      0       0       0       0       0       0       0       0       9   \n",
       "1      1       0       0       0       0       0       0       0       0   \n",
       "2      2       0       0       0       0       0       0      14      53   \n",
       "3      2       0       0       0       0       0       0       0       0   \n",
       "4      3       0       0       0       0       0       0       0       0   \n",
       "\n",
       "   pixel9  ...  pixel775  pixel776  pixel777  pixel778  pixel779  pixel780  \\\n",
       "0       8  ...       103        87        56         0         0         0   \n",
       "1       0  ...        34         0         0         0         0         0   \n",
       "2      99  ...         0         0         0         0        63        53   \n",
       "3       0  ...       137       126       140         0       133       224   \n",
       "4       0  ...         0         0         0         0         0         0   \n",
       "\n",
       "   pixel781  pixel782  pixel783  pixel784  \n",
       "0         0         0         0         0  \n",
       "1         0         0         0         0  \n",
       "2        31         0         0         0  \n",
       "3       222        56         0         0  \n",
       "4         0         0         0         0  \n",
       "\n",
       "[5 rows x 785 columns]"
      ],
      "text/html": [
       "<div>\n",
       "<style scoped>\n",
       "    .dataframe tbody tr th:only-of-type {\n",
       "        vertical-align: middle;\n",
       "    }\n",
       "\n",
       "    .dataframe tbody tr th {\n",
       "        vertical-align: top;\n",
       "    }\n",
       "\n",
       "    .dataframe thead th {\n",
       "        text-align: right;\n",
       "    }\n",
       "</style>\n",
       "<table border=\"1\" class=\"dataframe\">\n",
       "  <thead>\n",
       "    <tr style=\"text-align: right;\">\n",
       "      <th></th>\n",
       "      <th>label</th>\n",
       "      <th>pixel1</th>\n",
       "      <th>pixel2</th>\n",
       "      <th>pixel3</th>\n",
       "      <th>pixel4</th>\n",
       "      <th>pixel5</th>\n",
       "      <th>pixel6</th>\n",
       "      <th>pixel7</th>\n",
       "      <th>pixel8</th>\n",
       "      <th>pixel9</th>\n",
       "      <th>...</th>\n",
       "      <th>pixel775</th>\n",
       "      <th>pixel776</th>\n",
       "      <th>pixel777</th>\n",
       "      <th>pixel778</th>\n",
       "      <th>pixel779</th>\n",
       "      <th>pixel780</th>\n",
       "      <th>pixel781</th>\n",
       "      <th>pixel782</th>\n",
       "      <th>pixel783</th>\n",
       "      <th>pixel784</th>\n",
       "    </tr>\n",
       "  </thead>\n",
       "  <tbody>\n",
       "    <tr>\n",
       "      <th>0</th>\n",
       "      <td>0</td>\n",
       "      <td>0</td>\n",
       "      <td>0</td>\n",
       "      <td>0</td>\n",
       "      <td>0</td>\n",
       "      <td>0</td>\n",
       "      <td>0</td>\n",
       "      <td>0</td>\n",
       "      <td>9</td>\n",
       "      <td>8</td>\n",
       "      <td>...</td>\n",
       "      <td>103</td>\n",
       "      <td>87</td>\n",
       "      <td>56</td>\n",
       "      <td>0</td>\n",
       "      <td>0</td>\n",
       "      <td>0</td>\n",
       "      <td>0</td>\n",
       "      <td>0</td>\n",
       "      <td>0</td>\n",
       "      <td>0</td>\n",
       "    </tr>\n",
       "    <tr>\n",
       "      <th>1</th>\n",
       "      <td>1</td>\n",
       "      <td>0</td>\n",
       "      <td>0</td>\n",
       "      <td>0</td>\n",
       "      <td>0</td>\n",
       "      <td>0</td>\n",
       "      <td>0</td>\n",
       "      <td>0</td>\n",
       "      <td>0</td>\n",
       "      <td>0</td>\n",
       "      <td>...</td>\n",
       "      <td>34</td>\n",
       "      <td>0</td>\n",
       "      <td>0</td>\n",
       "      <td>0</td>\n",
       "      <td>0</td>\n",
       "      <td>0</td>\n",
       "      <td>0</td>\n",
       "      <td>0</td>\n",
       "      <td>0</td>\n",
       "      <td>0</td>\n",
       "    </tr>\n",
       "    <tr>\n",
       "      <th>2</th>\n",
       "      <td>2</td>\n",
       "      <td>0</td>\n",
       "      <td>0</td>\n",
       "      <td>0</td>\n",
       "      <td>0</td>\n",
       "      <td>0</td>\n",
       "      <td>0</td>\n",
       "      <td>14</td>\n",
       "      <td>53</td>\n",
       "      <td>99</td>\n",
       "      <td>...</td>\n",
       "      <td>0</td>\n",
       "      <td>0</td>\n",
       "      <td>0</td>\n",
       "      <td>0</td>\n",
       "      <td>63</td>\n",
       "      <td>53</td>\n",
       "      <td>31</td>\n",
       "      <td>0</td>\n",
       "      <td>0</td>\n",
       "      <td>0</td>\n",
       "    </tr>\n",
       "    <tr>\n",
       "      <th>3</th>\n",
       "      <td>2</td>\n",
       "      <td>0</td>\n",
       "      <td>0</td>\n",
       "      <td>0</td>\n",
       "      <td>0</td>\n",
       "      <td>0</td>\n",
       "      <td>0</td>\n",
       "      <td>0</td>\n",
       "      <td>0</td>\n",
       "      <td>0</td>\n",
       "      <td>...</td>\n",
       "      <td>137</td>\n",
       "      <td>126</td>\n",
       "      <td>140</td>\n",
       "      <td>0</td>\n",
       "      <td>133</td>\n",
       "      <td>224</td>\n",
       "      <td>222</td>\n",
       "      <td>56</td>\n",
       "      <td>0</td>\n",
       "      <td>0</td>\n",
       "    </tr>\n",
       "    <tr>\n",
       "      <th>4</th>\n",
       "      <td>3</td>\n",
       "      <td>0</td>\n",
       "      <td>0</td>\n",
       "      <td>0</td>\n",
       "      <td>0</td>\n",
       "      <td>0</td>\n",
       "      <td>0</td>\n",
       "      <td>0</td>\n",
       "      <td>0</td>\n",
       "      <td>0</td>\n",
       "      <td>...</td>\n",
       "      <td>0</td>\n",
       "      <td>0</td>\n",
       "      <td>0</td>\n",
       "      <td>0</td>\n",
       "      <td>0</td>\n",
       "      <td>0</td>\n",
       "      <td>0</td>\n",
       "      <td>0</td>\n",
       "      <td>0</td>\n",
       "      <td>0</td>\n",
       "    </tr>\n",
       "  </tbody>\n",
       "</table>\n",
       "<p>5 rows × 785 columns</p>\n",
       "</div>"
      ]
     },
     "metadata": {},
     "execution_count": 14
    }
   ],
   "metadata": {}
  },
  {
   "cell_type": "code",
   "execution_count": 15,
   "source": [
    "test.info()"
   ],
   "outputs": [
    {
     "output_type": "stream",
     "name": "stdout",
     "text": [
      "<class 'pandas.core.frame.DataFrame'>\n",
      "RangeIndex: 10000 entries, 0 to 9999\n",
      "Columns: 785 entries, label to pixel784\n",
      "dtypes: int64(785)\n",
      "memory usage: 59.9 MB\n"
     ]
    }
   ],
   "metadata": {}
  },
  {
   "cell_type": "code",
   "execution_count": 16,
   "source": [
    "# Show 16 random 28x28 sample images from dataset\r\n",
    "def display_image_sample(df):\r\n",
    "    fig,ax = plt.subplots(4,4)\r\n",
    "    df = df.sample(16)\r\n",
    "    k = 0\r\n",
    "    \r\n",
    "    for i in range(4):\r\n",
    "        for j in range(4):\r\n",
    "            ax[i][j].imshow(( np.array( df.iloc[k] ).reshape(28,28) ))\r\n",
    "            ax[i][j].set_xticks([])\r\n",
    "            ax[i][j].set_yticks([])\r\n",
    "            k+=1"
   ],
   "outputs": [],
   "metadata": {}
  },
  {
   "cell_type": "code",
   "execution_count": 17,
   "source": [
    "display_image_sample(train.drop('label',axis=1))"
   ],
   "outputs": [
    {
     "output_type": "display_data",
     "data": {
      "text/plain": [
       "<Figure size 432x288 with 16 Axes>"
      ],
      "image/svg+xml": "<?xml version=\"1.0\" encoding=\"utf-8\" standalone=\"no\"?>\r\n<!DOCTYPE svg PUBLIC \"-//W3C//DTD SVG 1.1//EN\"\r\n  \"http://www.w3.org/Graphics/SVG/1.1/DTD/svg11.dtd\">\r\n<svg height=\"235.34pt\" version=\"1.1\" viewBox=\"0 0 327.186957 235.34\" width=\"327.186957pt\" xmlns=\"http://www.w3.org/2000/svg\" xmlns:xlink=\"http://www.w3.org/1999/xlink\">\r\n <metadata>\r\n  <rdf:RDF xmlns:cc=\"http://creativecommons.org/ns#\" xmlns:dc=\"http://purl.org/dc/elements/1.1/\" xmlns:rdf=\"http://www.w3.org/1999/02/22-rdf-syntax-ns#\">\r\n   <cc:Work>\r\n    <dc:type rdf:resource=\"http://purl.org/dc/dcmitype/StillImage\"/>\r\n    <dc:date>2021-08-31T16:30:13.170149</dc:date>\r\n    <dc:format>image/svg+xml</dc:format>\r\n    <dc:creator>\r\n     <cc:Agent>\r\n      <dc:title>Matplotlib v3.4.3, https://matplotlib.org/</dc:title>\r\n     </cc:Agent>\r\n    </dc:creator>\r\n   </cc:Work>\r\n  </rdf:RDF>\r\n </metadata>\r\n <defs>\r\n  <style type=\"text/css\">*{stroke-linecap:butt;stroke-linejoin:round;}</style>\r\n </defs>\r\n <g id=\"figure_1\">\r\n  <g id=\"patch_1\">\r\n   <path d=\"M -0 235.34 \r\nL 327.186957 235.34 \r\nL 327.186957 0 \r\nL -0 0 \r\nz\r\n\" style=\"fill:none;\"/>\r\n  </g>\r\n  <g id=\"axes_1\">\r\n   <g id=\"patch_2\">\r\n    <path d=\"M 10.7 54.469565 \r\nL 57.969565 54.469565 \r\nL 57.969565 7.2 \r\nL 10.7 7.2 \r\nz\r\n\" style=\"fill:#ffffff;\"/>\r\n   </g>\r\n   <g clip-path=\"url(#pde1bc11c69)\">\r\n    <image height=\"48\" id=\"image7893106af6\" transform=\"scale(1 -1)translate(0 -48)\" width=\"48\" x=\"10.7\" xlink:href=\"data:image/png;base64,\r\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\" y=\"-6.469565\"/>\r\n   </g>\r\n   <g id=\"matplotlib.axis_1\"/>\r\n   <g id=\"matplotlib.axis_2\"/>\r\n   <g id=\"patch_3\">\r\n    <path d=\"M 10.7 54.469565 \r\nL 10.7 7.2 \r\n\" style=\"fill:none;stroke:#000000;stroke-linecap:square;stroke-linejoin:miter;stroke-width:0.8;\"/>\r\n   </g>\r\n   <g id=\"patch_4\">\r\n    <path d=\"M 57.969565 54.469565 \r\nL 57.969565 7.2 \r\n\" style=\"fill:none;stroke:#000000;stroke-linecap:square;stroke-linejoin:miter;stroke-width:0.8;\"/>\r\n   </g>\r\n   <g id=\"patch_5\">\r\n    <path d=\"M 10.7 54.469565 \r\nL 57.969565 54.469565 \r\n\" style=\"fill:none;stroke:#000000;stroke-linecap:square;stroke-linejoin:miter;stroke-width:0.8;\"/>\r\n   </g>\r\n   <g id=\"patch_6\">\r\n    <path d=\"M 10.7 7.2 \r\nL 57.969565 7.2 \r\n\" style=\"fill:none;stroke:#000000;stroke-linecap:square;stroke-linejoin:miter;stroke-width:0.8;\"/>\r\n   </g>\r\n  </g>\r\n  <g id=\"axes_2\">\r\n   <g id=\"patch_7\">\r\n    <path d=\"M 98.03913 54.469565 \r\nL 145.308696 54.469565 \r\nL 145.308696 7.2 \r\nL 98.03913 7.2 \r\nz\r\n\" style=\"fill:#ffffff;\"/>\r\n   </g>\r\n   <g clip-path=\"url(#p064716f49c)\">\r\n    <image height=\"48\" id=\"image2affa0801b\" transform=\"scale(1 -1)translate(0 -48)\" width=\"48\" x=\"98.03913\" xlink:href=\"data:image/png;base64,\r\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\" y=\"-6.469565\"/>\r\n   </g>\r\n   <g id=\"matplotlib.axis_3\"/>\r\n   <g id=\"matplotlib.axis_4\"/>\r\n   <g id=\"patch_8\">\r\n    <path d=\"M 98.03913 54.469565 \r\nL 98.03913 7.2 \r\n\" style=\"fill:none;stroke:#000000;stroke-linecap:square;stroke-linejoin:miter;stroke-width:0.8;\"/>\r\n   </g>\r\n   <g id=\"patch_9\">\r\n    <path d=\"M 145.308696 54.469565 \r\nL 145.308696 7.2 \r\n\" style=\"fill:none;stroke:#000000;stroke-linecap:square;stroke-linejoin:miter;stroke-width:0.8;\"/>\r\n   </g>\r\n   <g id=\"patch_10\">\r\n    <path d=\"M 98.03913 54.469565 \r\nL 145.308696 54.469565 \r\n\" style=\"fill:none;stroke:#000000;stroke-linecap:square;stroke-linejoin:miter;stroke-width:0.8;\"/>\r\n   </g>\r\n   <g id=\"patch_11\">\r\n    <path d=\"M 98.03913 7.2 \r\nL 145.308696 7.2 \r\n\" style=\"fill:none;stroke:#000000;stroke-linecap:square;stroke-linejoin:miter;stroke-width:0.8;\"/>\r\n   </g>\r\n  </g>\r\n  <g id=\"axes_3\">\r\n   <g id=\"patch_12\">\r\n    <path d=\"M 185.378261 54.469565 \r\nL 232.647826 54.469565 \r\nL 232.647826 7.2 \r\nL 185.378261 7.2 \r\nz\r\n\" style=\"fill:#ffffff;\"/>\r\n   </g>\r\n   <g clip-path=\"url(#p2de89b24de)\">\r\n    <image height=\"48\" id=\"image7ab4a00927\" transform=\"scale(1 -1)translate(0 -48)\" width=\"48\" x=\"185.378261\" xlink:href=\"data:image/png;base64,\r\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\" y=\"-6.469565\"/>\r\n   </g>\r\n   <g id=\"matplotlib.axis_5\"/>\r\n   <g id=\"matplotlib.axis_6\"/>\r\n   <g id=\"patch_13\">\r\n    <path d=\"M 185.378261 54.469565 \r\nL 185.378261 7.2 \r\n\" style=\"fill:none;stroke:#000000;stroke-linecap:square;stroke-linejoin:miter;stroke-width:0.8;\"/>\r\n   </g>\r\n   <g id=\"patch_14\">\r\n    <path d=\"M 232.647826 54.469565 \r\nL 232.647826 7.2 \r\n\" style=\"fill:none;stroke:#000000;stroke-linecap:square;stroke-linejoin:miter;stroke-width:0.8;\"/>\r\n   </g>\r\n   <g id=\"patch_15\">\r\n    <path d=\"M 185.378261 54.469565 \r\nL 232.647826 54.469565 \r\n\" style=\"fill:none;stroke:#000000;stroke-linecap:square;stroke-linejoin:miter;stroke-width:0.8;\"/>\r\n   </g>\r\n   <g id=\"patch_16\">\r\n    <path d=\"M 185.378261 7.2 \r\nL 232.647826 7.2 \r\n\" style=\"fill:none;stroke:#000000;stroke-linecap:square;stroke-linejoin:miter;stroke-width:0.8;\"/>\r\n   </g>\r\n  </g>\r\n  <g id=\"axes_4\">\r\n   <g id=\"patch_17\">\r\n    <path d=\"M 272.717391 54.469565 \r\nL 319.986957 54.469565 \r\nL 319.986957 7.2 \r\nL 272.717391 7.2 \r\nz\r\n\" style=\"fill:#ffffff;\"/>\r\n   </g>\r\n   <g clip-path=\"url(#p9e0570177b)\">\r\n    <image height=\"48\" id=\"image5b8017cefd\" transform=\"scale(1 -1)translate(0 -48)\" width=\"48\" x=\"272.717391\" xlink:href=\"data:image/png;base64,\r\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\" y=\"-6.469565\"/>\r\n   </g>\r\n   <g id=\"matplotlib.axis_7\"/>\r\n   <g id=\"matplotlib.axis_8\"/>\r\n   <g id=\"patch_18\">\r\n    <path d=\"M 272.717391 54.469565 \r\nL 272.717391 7.2 \r\n\" style=\"fill:none;stroke:#000000;stroke-linecap:square;stroke-linejoin:miter;stroke-width:0.8;\"/>\r\n   </g>\r\n   <g id=\"patch_19\">\r\n    <path d=\"M 319.986957 54.469565 \r\nL 319.986957 7.2 \r\n\" style=\"fill:none;stroke:#000000;stroke-linecap:square;stroke-linejoin:miter;stroke-width:0.8;\"/>\r\n   </g>\r\n   <g id=\"patch_20\">\r\n    <path d=\"M 272.717391 54.469565 \r\nL 319.986957 54.469565 \r\n\" style=\"fill:none;stroke:#000000;stroke-linecap:square;stroke-linejoin:miter;stroke-width:0.8;\"/>\r\n   </g>\r\n   <g id=\"patch_21\">\r\n    <path d=\"M 272.717391 7.2 \r\nL 319.986957 7.2 \r\n\" style=\"fill:none;stroke:#000000;stroke-linecap:square;stroke-linejoin:miter;stroke-width:0.8;\"/>\r\n   </g>\r\n  </g>\r\n  <g id=\"axes_5\">\r\n   <g id=\"patch_22\">\r\n    <path d=\"M 10.7 111.193043 \r\nL 57.969565 111.193043 \r\nL 57.969565 63.923478 \r\nL 10.7 63.923478 \r\nz\r\n\" style=\"fill:#ffffff;\"/>\r\n   </g>\r\n   <g clip-path=\"url(#p65ee62f01d)\">\r\n    <image height=\"48\" id=\"image5ecf17521e\" transform=\"scale(1 -1)translate(0 -48)\" width=\"48\" x=\"10.7\" xlink:href=\"data:image/png;base64,\r\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\" y=\"-63.193043\"/>\r\n   </g>\r\n   <g id=\"matplotlib.axis_9\"/>\r\n   <g id=\"matplotlib.axis_10\"/>\r\n   <g id=\"patch_23\">\r\n    <path d=\"M 10.7 111.193043 \r\nL 10.7 63.923478 \r\n\" style=\"fill:none;stroke:#000000;stroke-linecap:square;stroke-linejoin:miter;stroke-width:0.8;\"/>\r\n   </g>\r\n   <g id=\"patch_24\">\r\n    <path d=\"M 57.969565 111.193043 \r\nL 57.969565 63.923478 \r\n\" style=\"fill:none;stroke:#000000;stroke-linecap:square;stroke-linejoin:miter;stroke-width:0.8;\"/>\r\n   </g>\r\n   <g id=\"patch_25\">\r\n    <path d=\"M 10.7 111.193043 \r\nL 57.969565 111.193043 \r\n\" style=\"fill:none;stroke:#000000;stroke-linecap:square;stroke-linejoin:miter;stroke-width:0.8;\"/>\r\n   </g>\r\n   <g id=\"patch_26\">\r\n    <path d=\"M 10.7 63.923478 \r\nL 57.969565 63.923478 \r\n\" style=\"fill:none;stroke:#000000;stroke-linecap:square;stroke-linejoin:miter;stroke-width:0.8;\"/>\r\n   </g>\r\n  </g>\r\n  <g id=\"axes_6\">\r\n   <g id=\"patch_27\">\r\n    <path d=\"M 98.03913 111.193043 \r\nL 145.308696 111.193043 \r\nL 145.308696 63.923478 \r\nL 98.03913 63.923478 \r\nz\r\n\" style=\"fill:#ffffff;\"/>\r\n   </g>\r\n   <g clip-path=\"url(#pcfd2a15681)\">\r\n    <image height=\"48\" id=\"imagea67cd05b13\" transform=\"scale(1 -1)translate(0 -48)\" width=\"48\" x=\"98.03913\" xlink:href=\"data:image/png;base64,\r\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\" y=\"-63.193043\"/>\r\n   </g>\r\n   <g id=\"matplotlib.axis_11\"/>\r\n   <g id=\"matplotlib.axis_12\"/>\r\n   <g id=\"patch_28\">\r\n    <path d=\"M 98.03913 111.193043 \r\nL 98.03913 63.923478 \r\n\" style=\"fill:none;stroke:#000000;stroke-linecap:square;stroke-linejoin:miter;stroke-width:0.8;\"/>\r\n   </g>\r\n   <g id=\"patch_29\">\r\n    <path d=\"M 145.308696 111.193043 \r\nL 145.308696 63.923478 \r\n\" style=\"fill:none;stroke:#000000;stroke-linecap:square;stroke-linejoin:miter;stroke-width:0.8;\"/>\r\n   </g>\r\n   <g id=\"patch_30\">\r\n    <path d=\"M 98.03913 111.193043 \r\nL 145.308696 111.193043 \r\n\" style=\"fill:none;stroke:#000000;stroke-linecap:square;stroke-linejoin:miter;stroke-width:0.8;\"/>\r\n   </g>\r\n   <g id=\"patch_31\">\r\n    <path d=\"M 98.03913 63.923478 \r\nL 145.308696 63.923478 \r\n\" style=\"fill:none;stroke:#000000;stroke-linecap:square;stroke-linejoin:miter;stroke-width:0.8;\"/>\r\n   </g>\r\n  </g>\r\n  <g id=\"axes_7\">\r\n   <g id=\"patch_32\">\r\n    <path d=\"M 185.378261 111.193043 \r\nL 232.647826 111.193043 \r\nL 232.647826 63.923478 \r\nL 185.378261 63.923478 \r\nz\r\n\" style=\"fill:#ffffff;\"/>\r\n   </g>\r\n   <g clip-path=\"url(#p92f479f27a)\">\r\n    <image height=\"48\" id=\"image808af91ddd\" transform=\"scale(1 -1)translate(0 -48)\" width=\"48\" x=\"185.378261\" xlink:href=\"data:image/png;base64,\r\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\" y=\"-63.193043\"/>\r\n   </g>\r\n   <g id=\"matplotlib.axis_13\"/>\r\n   <g id=\"matplotlib.axis_14\"/>\r\n   <g id=\"patch_33\">\r\n    <path d=\"M 185.378261 111.193043 \r\nL 185.378261 63.923478 \r\n\" style=\"fill:none;stroke:#000000;stroke-linecap:square;stroke-linejoin:miter;stroke-width:0.8;\"/>\r\n   </g>\r\n   <g id=\"patch_34\">\r\n    <path d=\"M 232.647826 111.193043 \r\nL 232.647826 63.923478 \r\n\" style=\"fill:none;stroke:#000000;stroke-linecap:square;stroke-linejoin:miter;stroke-width:0.8;\"/>\r\n   </g>\r\n   <g id=\"patch_35\">\r\n    <path d=\"M 185.378261 111.193043 \r\nL 232.647826 111.193043 \r\n\" style=\"fill:none;stroke:#000000;stroke-linecap:square;stroke-linejoin:miter;stroke-width:0.8;\"/>\r\n   </g>\r\n   <g id=\"patch_36\">\r\n    <path d=\"M 185.378261 63.923478 \r\nL 232.647826 63.923478 \r\n\" style=\"fill:none;stroke:#000000;stroke-linecap:square;stroke-linejoin:miter;stroke-width:0.8;\"/>\r\n   </g>\r\n  </g>\r\n  <g id=\"axes_8\">\r\n   <g id=\"patch_37\">\r\n    <path d=\"M 272.717391 111.193043 \r\nL 319.986957 111.193043 \r\nL 319.986957 63.923478 \r\nL 272.717391 63.923478 \r\nz\r\n\" style=\"fill:#ffffff;\"/>\r\n   </g>\r\n   <g clip-path=\"url(#pfd369c07e2)\">\r\n    <image height=\"48\" id=\"imageb5fc898afc\" transform=\"scale(1 -1)translate(0 -48)\" width=\"48\" x=\"272.717391\" xlink:href=\"data:image/png;base64,\r\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\" y=\"-63.193043\"/>\r\n   </g>\r\n   <g id=\"matplotlib.axis_15\"/>\r\n   <g id=\"matplotlib.axis_16\"/>\r\n   <g id=\"patch_38\">\r\n    <path d=\"M 272.717391 111.193043 \r\nL 272.717391 63.923478 \r\n\" style=\"fill:none;stroke:#000000;stroke-linecap:square;stroke-linejoin:miter;stroke-width:0.8;\"/>\r\n   </g>\r\n   <g id=\"patch_39\">\r\n    <path d=\"M 319.986957 111.193043 \r\nL 319.986957 63.923478 \r\n\" style=\"fill:none;stroke:#000000;stroke-linecap:square;stroke-linejoin:miter;stroke-width:0.8;\"/>\r\n   </g>\r\n   <g id=\"patch_40\">\r\n    <path d=\"M 272.717391 111.193043 \r\nL 319.986957 111.193043 \r\n\" style=\"fill:none;stroke:#000000;stroke-linecap:square;stroke-linejoin:miter;stroke-width:0.8;\"/>\r\n   </g>\r\n   <g id=\"patch_41\">\r\n    <path d=\"M 272.717391 63.923478 \r\nL 319.986957 63.923478 \r\n\" style=\"fill:none;stroke:#000000;stroke-linecap:square;stroke-linejoin:miter;stroke-width:0.8;\"/>\r\n   </g>\r\n  </g>\r\n  <g id=\"axes_9\">\r\n   <g id=\"patch_42\">\r\n    <path d=\"M 10.7 167.916522 \r\nL 57.969565 167.916522 \r\nL 57.969565 120.646957 \r\nL 10.7 120.646957 \r\nz\r\n\" style=\"fill:#ffffff;\"/>\r\n   </g>\r\n   <g clip-path=\"url(#p5a267611c1)\">\r\n    <image height=\"48\" id=\"imagef01c80cc45\" transform=\"scale(1 -1)translate(0 -48)\" width=\"48\" x=\"10.7\" xlink:href=\"data:image/png;base64,\r\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\" y=\"-119.916522\"/>\r\n   </g>\r\n   <g id=\"matplotlib.axis_17\"/>\r\n   <g id=\"matplotlib.axis_18\"/>\r\n   <g id=\"patch_43\">\r\n    <path d=\"M 10.7 167.916522 \r\nL 10.7 120.646957 \r\n\" style=\"fill:none;stroke:#000000;stroke-linecap:square;stroke-linejoin:miter;stroke-width:0.8;\"/>\r\n   </g>\r\n   <g id=\"patch_44\">\r\n    <path d=\"M 57.969565 167.916522 \r\nL 57.969565 120.646957 \r\n\" style=\"fill:none;stroke:#000000;stroke-linecap:square;stroke-linejoin:miter;stroke-width:0.8;\"/>\r\n   </g>\r\n   <g id=\"patch_45\">\r\n    <path d=\"M 10.7 167.916522 \r\nL 57.969565 167.916522 \r\n\" style=\"fill:none;stroke:#000000;stroke-linecap:square;stroke-linejoin:miter;stroke-width:0.8;\"/>\r\n   </g>\r\n   <g id=\"patch_46\">\r\n    <path d=\"M 10.7 120.646957 \r\nL 57.969565 120.646957 \r\n\" style=\"fill:none;stroke:#000000;stroke-linecap:square;stroke-linejoin:miter;stroke-width:0.8;\"/>\r\n   </g>\r\n  </g>\r\n  <g id=\"axes_10\">\r\n   <g id=\"patch_47\">\r\n    <path d=\"M 98.03913 167.916522 \r\nL 145.308696 167.916522 \r\nL 145.308696 120.646957 \r\nL 98.03913 120.646957 \r\nz\r\n\" style=\"fill:#ffffff;\"/>\r\n   </g>\r\n   <g clip-path=\"url(#pc9f8f887ab)\">\r\n    <image height=\"48\" id=\"image8770292861\" transform=\"scale(1 -1)translate(0 -48)\" width=\"48\" x=\"98.03913\" xlink:href=\"data:image/png;base64,\r\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\" y=\"-119.916522\"/>\r\n   </g>\r\n   <g id=\"matplotlib.axis_19\"/>\r\n   <g id=\"matplotlib.axis_20\"/>\r\n   <g id=\"patch_48\">\r\n    <path d=\"M 98.03913 167.916522 \r\nL 98.03913 120.646957 \r\n\" style=\"fill:none;stroke:#000000;stroke-linecap:square;stroke-linejoin:miter;stroke-width:0.8;\"/>\r\n   </g>\r\n   <g id=\"patch_49\">\r\n    <path d=\"M 145.308696 167.916522 \r\nL 145.308696 120.646957 \r\n\" style=\"fill:none;stroke:#000000;stroke-linecap:square;stroke-linejoin:miter;stroke-width:0.8;\"/>\r\n   </g>\r\n   <g id=\"patch_50\">\r\n    <path d=\"M 98.03913 167.916522 \r\nL 145.308696 167.916522 \r\n\" style=\"fill:none;stroke:#000000;stroke-linecap:square;stroke-linejoin:miter;stroke-width:0.8;\"/>\r\n   </g>\r\n   <g id=\"patch_51\">\r\n    <path d=\"M 98.03913 120.646957 \r\nL 145.308696 120.646957 \r\n\" style=\"fill:none;stroke:#000000;stroke-linecap:square;stroke-linejoin:miter;stroke-width:0.8;\"/>\r\n   </g>\r\n  </g>\r\n  <g id=\"axes_11\">\r\n   <g id=\"patch_52\">\r\n    <path d=\"M 185.378261 167.916522 \r\nL 232.647826 167.916522 \r\nL 232.647826 120.646957 \r\nL 185.378261 120.646957 \r\nz\r\n\" style=\"fill:#ffffff;\"/>\r\n   </g>\r\n   <g clip-path=\"url(#p991b1005b3)\">\r\n    <image height=\"48\" id=\"imageae185f0016\" transform=\"scale(1 -1)translate(0 -48)\" width=\"48\" x=\"185.378261\" xlink:href=\"data:image/png;base64,\r\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\" y=\"-119.916522\"/>\r\n   </g>\r\n   <g id=\"matplotlib.axis_21\"/>\r\n   <g id=\"matplotlib.axis_22\"/>\r\n   <g id=\"patch_53\">\r\n    <path d=\"M 185.378261 167.916522 \r\nL 185.378261 120.646957 \r\n\" style=\"fill:none;stroke:#000000;stroke-linecap:square;stroke-linejoin:miter;stroke-width:0.8;\"/>\r\n   </g>\r\n   <g id=\"patch_54\">\r\n    <path d=\"M 232.647826 167.916522 \r\nL 232.647826 120.646957 \r\n\" style=\"fill:none;stroke:#000000;stroke-linecap:square;stroke-linejoin:miter;stroke-width:0.8;\"/>\r\n   </g>\r\n   <g id=\"patch_55\">\r\n    <path d=\"M 185.378261 167.916522 \r\nL 232.647826 167.916522 \r\n\" style=\"fill:none;stroke:#000000;stroke-linecap:square;stroke-linejoin:miter;stroke-width:0.8;\"/>\r\n   </g>\r\n   <g id=\"patch_56\">\r\n    <path d=\"M 185.378261 120.646957 \r\nL 232.647826 120.646957 \r\n\" style=\"fill:none;stroke:#000000;stroke-linecap:square;stroke-linejoin:miter;stroke-width:0.8;\"/>\r\n   </g>\r\n  </g>\r\n  <g id=\"axes_12\">\r\n   <g id=\"patch_57\">\r\n    <path d=\"M 272.717391 167.916522 \r\nL 319.986957 167.916522 \r\nL 319.986957 120.646957 \r\nL 272.717391 120.646957 \r\nz\r\n\" style=\"fill:#ffffff;\"/>\r\n   </g>\r\n   <g clip-path=\"url(#p5d1e1272c2)\">\r\n    <image height=\"48\" id=\"image9cf5e7ca58\" transform=\"scale(1 -1)translate(0 -48)\" width=\"48\" x=\"272.717391\" xlink:href=\"data:image/png;base64,\r\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\" y=\"-119.916522\"/>\r\n   </g>\r\n   <g id=\"matplotlib.axis_23\"/>\r\n   <g id=\"matplotlib.axis_24\"/>\r\n   <g id=\"patch_58\">\r\n    <path d=\"M 272.717391 167.916522 \r\nL 272.717391 120.646957 \r\n\" style=\"fill:none;stroke:#000000;stroke-linecap:square;stroke-linejoin:miter;stroke-width:0.8;\"/>\r\n   </g>\r\n   <g id=\"patch_59\">\r\n    <path d=\"M 319.986957 167.916522 \r\nL 319.986957 120.646957 \r\n\" style=\"fill:none;stroke:#000000;stroke-linecap:square;stroke-linejoin:miter;stroke-width:0.8;\"/>\r\n   </g>\r\n   <g id=\"patch_60\">\r\n    <path d=\"M 272.717391 167.916522 \r\nL 319.986957 167.916522 \r\n\" style=\"fill:none;stroke:#000000;stroke-linecap:square;stroke-linejoin:miter;stroke-width:0.8;\"/>\r\n   </g>\r\n   <g id=\"patch_61\">\r\n    <path d=\"M 272.717391 120.646957 \r\nL 319.986957 120.646957 \r\n\" style=\"fill:none;stroke:#000000;stroke-linecap:square;stroke-linejoin:miter;stroke-width:0.8;\"/>\r\n   </g>\r\n  </g>\r\n  <g id=\"axes_13\">\r\n   <g id=\"patch_62\">\r\n    <path d=\"M 10.7 224.64 \r\nL 57.969565 224.64 \r\nL 57.969565 177.370435 \r\nL 10.7 177.370435 \r\nz\r\n\" style=\"fill:#ffffff;\"/>\r\n   </g>\r\n   <g clip-path=\"url(#pecd2c50109)\">\r\n    <image height=\"48\" id=\"imagea5cf7e9012\" transform=\"scale(1 -1)translate(0 -48)\" width=\"48\" x=\"10.7\" xlink:href=\"data:image/png;base64,\r\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\" y=\"-176.64\"/>\r\n   </g>\r\n   <g id=\"matplotlib.axis_25\"/>\r\n   <g id=\"matplotlib.axis_26\"/>\r\n   <g id=\"patch_63\">\r\n    <path d=\"M 10.7 224.64 \r\nL 10.7 177.370435 \r\n\" style=\"fill:none;stroke:#000000;stroke-linecap:square;stroke-linejoin:miter;stroke-width:0.8;\"/>\r\n   </g>\r\n   <g id=\"patch_64\">\r\n    <path d=\"M 57.969565 224.64 \r\nL 57.969565 177.370435 \r\n\" style=\"fill:none;stroke:#000000;stroke-linecap:square;stroke-linejoin:miter;stroke-width:0.8;\"/>\r\n   </g>\r\n   <g id=\"patch_65\">\r\n    <path d=\"M 10.7 224.64 \r\nL 57.969565 224.64 \r\n\" style=\"fill:none;stroke:#000000;stroke-linecap:square;stroke-linejoin:miter;stroke-width:0.8;\"/>\r\n   </g>\r\n   <g id=\"patch_66\">\r\n    <path d=\"M 10.7 177.370435 \r\nL 57.969565 177.370435 \r\n\" style=\"fill:none;stroke:#000000;stroke-linecap:square;stroke-linejoin:miter;stroke-width:0.8;\"/>\r\n   </g>\r\n  </g>\r\n  <g id=\"axes_14\">\r\n   <g id=\"patch_67\">\r\n    <path d=\"M 98.03913 224.64 \r\nL 145.308696 224.64 \r\nL 145.308696 177.370435 \r\nL 98.03913 177.370435 \r\nz\r\n\" style=\"fill:#ffffff;\"/>\r\n   </g>\r\n   <g clip-path=\"url(#p810f0b7659)\">\r\n    <image height=\"48\" id=\"image2fb0a0bb45\" transform=\"scale(1 -1)translate(0 -48)\" width=\"48\" x=\"98.03913\" xlink:href=\"data:image/png;base64,\r\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\" y=\"-176.64\"/>\r\n   </g>\r\n   <g id=\"matplotlib.axis_27\"/>\r\n   <g id=\"matplotlib.axis_28\"/>\r\n   <g id=\"patch_68\">\r\n    <path d=\"M 98.03913 224.64 \r\nL 98.03913 177.370435 \r\n\" style=\"fill:none;stroke:#000000;stroke-linecap:square;stroke-linejoin:miter;stroke-width:0.8;\"/>\r\n   </g>\r\n   <g id=\"patch_69\">\r\n    <path d=\"M 145.308696 224.64 \r\nL 145.308696 177.370435 \r\n\" style=\"fill:none;stroke:#000000;stroke-linecap:square;stroke-linejoin:miter;stroke-width:0.8;\"/>\r\n   </g>\r\n   <g id=\"patch_70\">\r\n    <path d=\"M 98.03913 224.64 \r\nL 145.308696 224.64 \r\n\" style=\"fill:none;stroke:#000000;stroke-linecap:square;stroke-linejoin:miter;stroke-width:0.8;\"/>\r\n   </g>\r\n   <g id=\"patch_71\">\r\n    <path d=\"M 98.03913 177.370435 \r\nL 145.308696 177.370435 \r\n\" style=\"fill:none;stroke:#000000;stroke-linecap:square;stroke-linejoin:miter;stroke-width:0.8;\"/>\r\n   </g>\r\n  </g>\r\n  <g id=\"axes_15\">\r\n   <g id=\"patch_72\">\r\n    <path d=\"M 185.378261 224.64 \r\nL 232.647826 224.64 \r\nL 232.647826 177.370435 \r\nL 185.378261 177.370435 \r\nz\r\n\" style=\"fill:#ffffff;\"/>\r\n   </g>\r\n   <g clip-path=\"url(#p24dc9cbf5a)\">\r\n    <image height=\"48\" id=\"image88b1f170e6\" transform=\"scale(1 -1)translate(0 -48)\" width=\"48\" x=\"185.378261\" xlink:href=\"data:image/png;base64,\r\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\" y=\"-176.64\"/>\r\n   </g>\r\n   <g id=\"matplotlib.axis_29\"/>\r\n   <g id=\"matplotlib.axis_30\"/>\r\n   <g id=\"patch_73\">\r\n    <path d=\"M 185.378261 224.64 \r\nL 185.378261 177.370435 \r\n\" style=\"fill:none;stroke:#000000;stroke-linecap:square;stroke-linejoin:miter;stroke-width:0.8;\"/>\r\n   </g>\r\n   <g id=\"patch_74\">\r\n    <path d=\"M 232.647826 224.64 \r\nL 232.647826 177.370435 \r\n\" style=\"fill:none;stroke:#000000;stroke-linecap:square;stroke-linejoin:miter;stroke-width:0.8;\"/>\r\n   </g>\r\n   <g id=\"patch_75\">\r\n    <path d=\"M 185.378261 224.64 \r\nL 232.647826 224.64 \r\n\" style=\"fill:none;stroke:#000000;stroke-linecap:square;stroke-linejoin:miter;stroke-width:0.8;\"/>\r\n   </g>\r\n   <g id=\"patch_76\">\r\n    <path d=\"M 185.378261 177.370435 \r\nL 232.647826 177.370435 \r\n\" style=\"fill:none;stroke:#000000;stroke-linecap:square;stroke-linejoin:miter;stroke-width:0.8;\"/>\r\n   </g>\r\n  </g>\r\n  <g id=\"axes_16\">\r\n   <g id=\"patch_77\">\r\n    <path d=\"M 272.717391 224.64 \r\nL 319.986957 224.64 \r\nL 319.986957 177.370435 \r\nL 272.717391 177.370435 \r\nz\r\n\" style=\"fill:#ffffff;\"/>\r\n   </g>\r\n   <g clip-path=\"url(#p64d5e08209)\">\r\n    <image height=\"48\" id=\"image5b4b33e0c4\" transform=\"scale(1 -1)translate(0 -48)\" width=\"48\" x=\"272.717391\" xlink:href=\"data:image/png;base64,\r\niVBORw0KGgoAAAANSUhEUgAAADAAAAAwCAYAAABXAvmHAAAPGklEQVR4nL2aSZMkWXHHf/7eiyUzK2vv6W16ehYYZjAwZJhxEJgOwmTipoNMZ22fSLrrprO+AMZVBgaYNIAEM0AP0D29VfVSSy6xvOeuw4vMrJruYWYwhJulVUbEiwhf/u7+f14pfyV/Z6xEBClL0jfepdsraXY9GkALiGMhVdBvGeYBGT4ACtVz4eb3TvFHz4n3H/CnknDp4MZ19HCH07dG9FuCFqAlpBJSbWiANFXMDzY7y0Y4I257Hn9rh+J8m+r8FubABMQAA5cMDCSBmL2oyYVTkoywSPm7GuF/f0M6m4Gm32/A/Gs3Of5aQfuVJaGItM9GyDgymTZ4IDjlcGuOFwVgq2ipfeTm6ISpbzj89jkJh5rjSjijdj2NFsy14kmcchpHLLRkHqtsvyhesubLVNCrp3CJx8spd44OMYPYBt7+l1dxH/wGXSxABMStjblkQKoccWzsbM/ZrluOvLI7WXJz65SnzYQ+eRyGG146LVp2iiVH7ZSHts0ducL16pS36iMe9HsstKTRglYDZ7FmHis69SxiiZqsn+PE6JInmcNhtCmwNW6YVh0ixtM/u8He6IvID/5nUFxfHgEthFTDlcmcw3oOwPXxGV+ePuTncp2TbrR+oRNj4jsOixkPljucdTWLvsTtGG/VR9xvd3nWT2hTIJpjEUvaFOiTp1eHmmCWk0jESOrWx94pk7Ln1a0Tdosl33vjBr4bsftDwRS4AMFLBvRjIe1Gvrr7gLHveO/RTQBeqc/ZLxfslwuulOe0GnjcbnN79ITb5RP+Zvs9nqUx/378TY7bLf7tt99i3pak5HLEB0+LGDIoCJAGQ1JyFCERfMIJqAm9Oj6a7fIRu7SvJGbzwK64T8gB53GTMXEEro48bqd4MVJyNDFw1EwJLlGI0pun1UBvGeulJK64iGeOIixjwayp6HuPqiBDpXLOsgGy8Z6aoLqJRD4HXnKU2+RJ6pBRJE48UldYSpeSOQD4/V3il26xuA6TacN/fv/LIDB545RZU/Hfs1dxThGBqujXN498z45f8BPpudsf8NPj6ziBvfGSJgaSCn3y2KAogJnQR4+I4ZzhvVKGRBESToxlV+AkUYdIEwPRhMl2w/ygQG5cxT99TnrydK2DA5DpFqdvjUgVNMsylz6BKmRL+y6ssWkDds0ENYcT4ySNeR4nLJqKLvoLeXI53CtPZ4PcJe+bSc4DIGn+LkAZIpOqw8aR5tYO7O1ceqYDSLtbPH8X0kjpz0rMg1bKaPB26hzeK6Oyxw9QMJNcBlFO0pijbkrXBLp+k1ZqG8UvwsQMVDP2V+eTCjE5VB1JHVEdwSmlT+xUDePthtM3S+Ir2y/mQNousdtL7LzALT26FZFCefR8iqpDvNF1AVVHGeIGv5aT6m57wMNmB0uOlIRlX9BFv07QbADrhF79XRkSZRONVY4YeU3pEopQhsTsNoyPK8YvRKBwHOzOIBjSC65OhDLRLwu0d4gzUvT0fU6qVagBEo6TOOasrzHN0OiiJyZHjDmRP56oH4dVSm79MRNscBBsKlgREt1Botu6XIkCgHnJcDFwPdRbDVVIPG2nILmCpOhIfb7Ze8V7JZqj1YJHyylPFhPoBXWeNgRS9GsjZVDEBu/HfsgTr6gCQyQRWxu76tC95rXjoufG60+YfXDtJQY4YRx68AYO6iJSh5i5DjnMaIaBqaAiOCf06unN02kgqVuTO9XsRVMBGziRA4seHZTEQNXn6yq4QjMcyPnVxpxLhU9DwchGmSNjcWhm6wjsVwt8qWgwduqGUeh5EHbQ6NDWw1AG1bIxqkKnnvNUE9XlhB1Iniafn2+g0Q1Q2Bi0BnnvMsEzQac9rshVL0bHWV8zGbWMS0hDEUg6rC9LrOvALBsgasz6iqKMNNuBRV+w6AvSMmwwoIAJaRGwKlFVETVhlioen085n42QhccKQ8UGZQWirPVdfwkDi/WWHZPAlp6+9evrxbhbwyRpdsJ23fCoGgzoI1gaOrHBMhaURaTf6mn6QEweOpdhVCqYQ5JA8qjLoQVoNTCb16TzAt84FMUKlxUbjL5IlddWDDQ8XxNkFY1e0FqxelNiY3IEr+yUSx4UIGWBNB7TRPBXXyGOHRoLqiLiJoZ3RkxAoeBAnEHrcJ2Qpoli1PP2wTET39FqwIdErBKaBHO2hsY6em7VEGQTBSMbKWClMjlYUIbI8+MpJCEuAnOpiOroukBZRsahp9tV4juvEd6/S3r6jMB0QqqEIJY7rZc121wlpamsdVgx2dJFKh9xGOO6w0yIheZbbNN1nTcYSJxZZpPObziRD0pZRMqQSCpIUEwcKKg6+t7TLQpSGhhsZbT7JUVZ5iTur+3Q7DlujmY8WW7R9gG/KrVJ1lAwb5iAXzr6suDhYocvbh9zq37GN6+DIuwXc1oNtBoY+Z5CEstU4MQY+45FKmk1ULlI5SL7Yc5X6nt8ozrl2//1z5z+bgfZ63BFXBvcNQXl/RIt4PErU6xUzl4rmLyf21lYXq2IE5j1eZc0KjdkbSVigmscLoLrBLTgw+qQp/MxdyaHuWP6xLLKu6pOPbXvB/bq8GIEyX1jdR0giPLb5oAfl2ecnY1wvZCiQ2xDV1bVD4N5V4JCqgCXvRzm1z3dtnHSjKhDZKvoWMbiEu3NloJfCqGBYibE2YizacXzrR2K3YaqijwdjVETYvKUIeIHWF5KXxNOlzV98nRtyLBIAk8qJAr0Dks52ivcrvrc+bLKlbACwuCEsy8oWilPT7ao6j4n0sNt3MJTnTm0MuLIEBXEQD2kGtqDhE0SfhTpT2rS0pGe7eZNu8JitQ9IrBNaQ1ZGNA8L+usRN+mZTBuaoPRNoLpbYcHo9hKMEr5K9FciBGWv7minJc0Vh9a5gAYL+emxySdS4fBngbAQwiKXcakvFBEPWhhWKa5KhJDQTghzYfzQhqlDVlJ0c2wCGmRtRBwL7b7DRkLhEzLqEGeEZYUGQXZyhfJeYdLjnFL4lHvVuMCGRA3v/Osx8y8dcu87ntg5ohhMElo6tBAs5ATWIm8SNBha5gTXZaDtHWwlusJYtCFT8cJw/UA/Qm7/dmHzqh4sKFYqNJ5nj7cJ48xyux1DS8Pt5Q29qWT6gmPRlqQ0zGqGzUZABPNghWXMrXCHgvjs9aESSQRHrvWuc1gPiMMqRVRyzxKyEWp5+hEAN+B4Vf9X+SVDWBPr7ecqZZxPOJd3bQy7tyIMDGDL0+5VjK++Qpi9e8D5rUDYXqwTN3Yea/x6EOUihKXg2+Hh5RDepeB66PZyOF1PnhoIyMB7RCwbL8NQSwVzedqnNZtekzLfKdoMsxCUuuypikgXPd4Ze/WSvXqJbgvHX7iFS68RivOERM943HJ+d5vRI49t2wAFclsfJ5aVRzohLCVP6vZ7+hU5CwadI8wCWgwQG9iiaI6AhgssTjLMZBwRlyO1tzPHO+VofgCTyFv7zwlOURPunezSNgXH93fBGxKUaYDlYSCEWYfvSsQn6mPP3i8TZ6954jjj0YLhRxGrEpaE+LxEa2Wyt8Q7xTul7QPNosSCxwJoaWtdfTd4vLQBSoaYYN4oqoj3hnPK1a1zat9zvD2lGvUc1nM69TSpoFmWxLOS8d0wjDszh+q2BPnrrX8wN91Cr+7jTufYbI7UNXiHFQHKAh2XNFdH9GMHIsyvOc6+3mILj2sduh2RpWf/J45+LHS7G2e7yMaAoZRVzyCNoPnqEucT3hspCf2s5PZ/COVZj+tSjqIZronQR6TtVvtS6HpIiaCLRZ45PnrM5ZYz5FkISFkyPruOTmu0DJgbcXZa4CNIFNzTIpfRo0gcOcJys32UISc0DOgxY/RUaaeO+Rc9MjKKuqU52aJ4EhjfOYKjJ6ST0/UzXhzpbiS48RiLEWtbcB5xgsW4XmAx5uNffZgVEsfuk9t0W1c5fwO6g8Sr3xUmv5vBT3+Vs/glE7RLYsr267eY3b5O+4by9sExP/vZLnsfGPbwCD0///33A7ihE1uMef4xjNBsNQv5uKyU0oR0PdWZcVoI1f4SbIxrIin2rMcPLxuhf0z6qRLKRFSPb4SwVEiDvz/tGYOjnLUtFnvE+3xSLzzgwkeKgCuLfK3tqE4iqVbevPI0l8J48b5PiQBAEdCDntGoo0kB30JYKGiuueL92ssvN8DAFLdaZCltLF4NNIckwgxSWkPLzJBkFGeOO0eHTO4tsAePN2tf8o+IFyQmOA80bYGZsP27xOS9e2jbgtkLM9AXZHDUxlUXwyXuBS9aSht4pYRrE2EudOclbtags9mnK33x/Unxc0ffBJaxoHoeiQ8fbfT4DBAEcJi+uFhfYv0QMoD09Bn+R79gelcJTwt0UuEPDwfN5JNDf+GazRfsfgDVnZp7Hx0Q5vHl93ySDJF2n9XS9U3DX2tb3MA0++0Kdqdr6ImTDQw/QUQyHXERZOFxcU2Cfj/2PyafIds+fsflF5iD2asl7Wt7ny15VxIC7V7u0sWpQ7oIIrjJeFMsPos6n0d3GLw7SHmeqJ4JZ28Iz96pcuVgKMWraDm/iYz3WTkRKALNQaba9bEgy25TLD4HKj5/BC5IcRapnhnN9cj8liHFQPov5E+G0/Aa7/NHMk2JOwoCoyeaaQJDNfykXvTHMOBiowvv/Zpr372P1Il0syF+/W3C7VtZ8arC1XVWaDgmJXTZ4EY1OqmxUqmPYf+7d0gPHufndx0WXxws/NEMGKwAQM/P0UdHMAuYCc/fGdHf2PvY2k31ytBS5OY1uisj3MxTnSrp+Bjruwvr/z8hNMBDQgDJvOmVHwjVhzVv/uMv+egvJ1mPtkWbZq2UtW2mIWXJ3b+9yv2/KLj2fdj9+cB7Pmf1WUn49CUvEbN1opoaO7+c4+KEH79xmzAxTv7+z6mfJcrznuL9+4gItjOlvbnD8kqBSf5txfTDc/zxCRHWUfrTGACbRNUEP/wZe/eu0W6/wcmXjYN/ussvfn2T6sGI12dXMO+YvT7h6OuCf3NG8aMp03sJ3nufuGK+m/9BfS4IyaVfq/yBIiEgVYXcuEo8nLK8VjO76YkjGD/KW8hYQ31ilGeJ0b0z5GxO/Oj+Zf61qlYvYwefIH94BC5Z4LCuR3/1Ie63JdNRjX7nXWY3PM2+rH+xMrm/xP/0Dmk2e1FBceseY+rAPgMhBP4PdmORU5Oo/cIAAAAASUVORK5CYII=\" y=\"-176.64\"/>\r\n   </g>\r\n   <g id=\"matplotlib.axis_31\"/>\r\n   <g id=\"matplotlib.axis_32\"/>\r\n   <g id=\"patch_78\">\r\n    <path d=\"M 272.717391 224.64 \r\nL 272.717391 177.370435 \r\n\" style=\"fill:none;stroke:#000000;stroke-linecap:square;stroke-linejoin:miter;stroke-width:0.8;\"/>\r\n   </g>\r\n   <g id=\"patch_79\">\r\n    <path d=\"M 319.986957 224.64 \r\nL 319.986957 177.370435 \r\n\" style=\"fill:none;stroke:#000000;stroke-linecap:square;stroke-linejoin:miter;stroke-width:0.8;\"/>\r\n   </g>\r\n   <g id=\"patch_80\">\r\n    <path d=\"M 272.717391 224.64 \r\nL 319.986957 224.64 \r\n\" style=\"fill:none;stroke:#000000;stroke-linecap:square;stroke-linejoin:miter;stroke-width:0.8;\"/>\r\n   </g>\r\n   <g id=\"patch_81\">\r\n    <path d=\"M 272.717391 177.370435 \r\nL 319.986957 177.370435 \r\n\" style=\"fill:none;stroke:#000000;stroke-linecap:square;stroke-linejoin:miter;stroke-width:0.8;\"/>\r\n   </g>\r\n  </g>\r\n </g>\r\n <defs>\r\n  <clipPath id=\"pde1bc11c69\">\r\n   <rect height=\"47.269565\" width=\"47.269565\" x=\"10.7\" y=\"7.2\"/>\r\n  </clipPath>\r\n  <clipPath id=\"p064716f49c\">\r\n   <rect height=\"47.269565\" width=\"47.269565\" x=\"98.03913\" y=\"7.2\"/>\r\n  </clipPath>\r\n  <clipPath id=\"p2de89b24de\">\r\n   <rect height=\"47.269565\" width=\"47.269565\" x=\"185.378261\" y=\"7.2\"/>\r\n  </clipPath>\r\n  <clipPath id=\"p9e0570177b\">\r\n   <rect height=\"47.269565\" width=\"47.269565\" x=\"272.717391\" y=\"7.2\"/>\r\n  </clipPath>\r\n  <clipPath id=\"p65ee62f01d\">\r\n   <rect height=\"47.269565\" width=\"47.269565\" x=\"10.7\" y=\"63.923478\"/>\r\n  </clipPath>\r\n  <clipPath id=\"pcfd2a15681\">\r\n   <rect height=\"47.269565\" width=\"47.269565\" x=\"98.03913\" y=\"63.923478\"/>\r\n  </clipPath>\r\n  <clipPath id=\"p92f479f27a\">\r\n   <rect height=\"47.269565\" width=\"47.269565\" x=\"185.378261\" y=\"63.923478\"/>\r\n  </clipPath>\r\n  <clipPath id=\"pfd369c07e2\">\r\n   <rect height=\"47.269565\" width=\"47.269565\" x=\"272.717391\" y=\"63.923478\"/>\r\n  </clipPath>\r\n  <clipPath id=\"p5a267611c1\">\r\n   <rect height=\"47.269565\" width=\"47.269565\" x=\"10.7\" y=\"120.646957\"/>\r\n  </clipPath>\r\n  <clipPath id=\"pc9f8f887ab\">\r\n   <rect height=\"47.269565\" width=\"47.269565\" x=\"98.03913\" y=\"120.646957\"/>\r\n  </clipPath>\r\n  <clipPath id=\"p991b1005b3\">\r\n   <rect height=\"47.269565\" width=\"47.269565\" x=\"185.378261\" y=\"120.646957\"/>\r\n  </clipPath>\r\n  <clipPath id=\"p5d1e1272c2\">\r\n   <rect height=\"47.269565\" width=\"47.269565\" x=\"272.717391\" y=\"120.646957\"/>\r\n  </clipPath>\r\n  <clipPath id=\"pecd2c50109\">\r\n   <rect height=\"47.269565\" width=\"47.269565\" x=\"10.7\" y=\"177.370435\"/>\r\n  </clipPath>\r\n  <clipPath id=\"p810f0b7659\">\r\n   <rect height=\"47.269565\" width=\"47.269565\" x=\"98.03913\" y=\"177.370435\"/>\r\n  </clipPath>\r\n  <clipPath id=\"p24dc9cbf5a\">\r\n   <rect height=\"47.269565\" width=\"47.269565\" x=\"185.378261\" y=\"177.370435\"/>\r\n  </clipPath>\r\n  <clipPath id=\"p64d5e08209\">\r\n   <rect height=\"47.269565\" width=\"47.269565\" x=\"272.717391\" y=\"177.370435\"/>\r\n  </clipPath>\r\n </defs>\r\n</svg>\r\n",
      "image/png": "[encoded data removed]"
     },
     "metadata": {}
    }
   ],
   "metadata": {}
  },
  {
   "cell_type": "code",
   "execution_count": 18,
   "source": [
    "from sklearn.preprocessing import StandardScaler\r\n",
    "from sklearn.neural_network import MLPClassifier\r\n",
    "from sklearn.model_selection import GridSearchCV\r\n",
    "from sklearn.metrics import classification_report,confusion_matrix, accuracy_score"
   ],
   "outputs": [],
   "metadata": {}
  },
  {
   "cell_type": "code",
   "execution_count": 19,
   "source": [
    "# Train Multi-Layer Perceptron Classifier on fraction of training data and tune hyperparameters\r\n",
    "def mlp_model(train,test,sample_size,grid_params):\r\n",
    "    train = train.sample(sample_size)\r\n",
    "    \r\n",
    "    X_train, y_train = train.drop('label',axis=1), train['label']\r\n",
    "    X_test, y_test = test.drop('label',axis=1), test['label']\r\n",
    "    \r\n",
    "    scaler = StandardScaler()\r\n",
    "    X_train = scaler.fit_transform(X_train)\r\n",
    "    X_test = scaler.transform(X_test)\r\n",
    "    \r\n",
    "    mlp_grid = GridSearchCV(MLPClassifier(max_iter=5000),grid_params,refit=True,verbose=2,cv=2,n_jobs=-1)\r\n",
    "    mlp_grid.fit(X_train,y_train)\r\n",
    "    \r\n",
    "    y_pred = mlp_grid.predict(X_test)\r\n",
    "    \r\n",
    "    return accuracy_score(y_test,y_pred), classification_report(y_test,y_pred), confusion_matrix(y_test,y_pred)"
   ],
   "outputs": [],
   "metadata": {}
  },
  {
   "cell_type": "code",
   "execution_count": 20,
   "source": [
    "# Tuning size of hidden layers, alpha\r\n",
    "mlp_grid_params = {'hidden_layer_sizes':[(450,30),(400,40),(350,50)], 'alpha':[.001,.01,.05,.1]}"
   ],
   "outputs": [],
   "metadata": {}
  },
  {
   "cell_type": "code",
   "execution_count": 21,
   "source": [
    "# Using 1000 / 60000 examples for training\r\n",
    "mlp = mlp_model(train,test,1000,mlp_grid_params)"
   ],
   "outputs": [
    {
     "output_type": "stream",
     "name": "stdout",
     "text": [
      "Fitting 2 folds for each of 12 candidates, totalling 24 fits\n"
     ]
    }
   ],
   "metadata": {}
  },
  {
   "cell_type": "code",
   "execution_count": null,
   "source": [
    "for i in range(3):\r\n",
    "    print(mlp[i])"
   ],
   "outputs": [
    {
     "output_type": "stream",
     "name": "stdout",
     "text": [
      "0.7974\n",
      "              precision    recall  f1-score   support\n",
      "\n",
      "           0       0.71      0.80      0.75      1000\n",
      "           1       0.95      0.94      0.95      1000\n",
      "           2       0.71      0.64      0.68      1000\n",
      "           3       0.89      0.77      0.83      1000\n",
      "           4       0.70      0.74      0.72      1000\n",
      "           5       0.86      0.84      0.85      1000\n",
      "           6       0.53      0.58      0.55      1000\n",
      "           7       0.84      0.85      0.85      1000\n",
      "           8       0.94      0.89      0.92      1000\n",
      "           9       0.88      0.91      0.89      1000\n",
      "\n",
      "    accuracy                           0.80     10000\n",
      "   macro avg       0.80      0.80      0.80     10000\n",
      "weighted avg       0.80      0.80      0.80     10000\n",
      "\n",
      "[[797   1  27  25   6   4 124   1  14   1]\n",
      " [  7 941  19   9   6   0  18   0   0   0]\n",
      " [ 17   0 641   4 164   2 161   0  11   0]\n",
      " [ 89  37  21 773  45   0  32   0   3   0]\n",
      " [  2   2  79  29 745   1 137   0   5   0]\n",
      " [  3   0   3   4   0 841   3  97   8  41]\n",
      " [186   4  96  21  91   7 580   1  13   1]\n",
      " [  0   0   0   0   0  72   0 850   0  78]\n",
      " [ 19   1  11   2   3  16  35  13 894   6]\n",
      " [  0   1   0   3   0  30   4  44   6 912]]\n"
     ]
    }
   ],
   "metadata": {}
  },
  {
   "cell_type": "code",
   "execution_count": null,
   "source": [
    "from sklearn.svm import SVC"
   ],
   "outputs": [],
   "metadata": {}
  },
  {
   "cell_type": "code",
   "execution_count": null,
   "source": [
    "# Train SVC Classifier on fraction of training data and tune hyperparameters\r\n",
    "def svc_model(train,test,sample_size,grid_params):\r\n",
    "    train = train.sample(sample_size)\r\n",
    "    \r\n",
    "    X_train, y_train = train.drop('label',axis=1), train['label']\r\n",
    "    X_test, y_test = test.drop('label',axis=1), test['label']\r\n",
    "    \r\n",
    "    scaler = StandardScaler()\r\n",
    "    X_train = scaler.fit_transform(X_train)\r\n",
    "    X_test = scaler.transform(X_test)\r\n",
    "    \r\n",
    "    svc_grid = GridSearchCV(SVC(max_iter=5000),grid_params,refit=True,verbose=2,cv=2,n_jobs=-1)\r\n",
    "    svc_grid.fit(X_train,y_train)\r\n",
    "    \r\n",
    "    y_pred = svc_grid.predict(X_test)\r\n",
    "    \r\n",
    "    return accuracy_score(y_test,y_pred), classification_report(y_test,y_pred), confusion_matrix(y_test,y_pred)"
   ],
   "outputs": [],
   "metadata": {}
  },
  {
   "cell_type": "code",
   "execution_count": null,
   "source": [
    "# Tuning C, gamma\r\n",
    "svc_grid_params = {'C':[0.1,1, 10, 100], 'gamma':[1,0.1,0.01,0.001]} "
   ],
   "outputs": [],
   "metadata": {}
  },
  {
   "cell_type": "code",
   "execution_count": null,
   "source": [
    "# Using 1000 / 60000 examples for training\r\n",
    "svc = svc_model(train,test,1000,svc_grid_params)"
   ],
   "outputs": [
    {
     "output_type": "stream",
     "name": "stdout",
     "text": [
      "Fitting 2 folds for each of 16 candidates, totalling 32 fits\n"
     ]
    }
   ],
   "metadata": {}
  },
  {
   "cell_type": "code",
   "execution_count": null,
   "source": [
    "for i in range(3):\r\n",
    "    print(svc[i])"
   ],
   "outputs": [
    {
     "output_type": "stream",
     "name": "stdout",
     "text": [
      "0.815\n",
      "              precision    recall  f1-score   support\n",
      "\n",
      "           0       0.74      0.77      0.75      1000\n",
      "           1       0.99      0.93      0.96      1000\n",
      "           2       0.68      0.74      0.71      1000\n",
      "           3       0.89      0.83      0.86      1000\n",
      "           4       0.75      0.74      0.74      1000\n",
      "           5       0.89      0.89      0.89      1000\n",
      "           6       0.60      0.55      0.57      1000\n",
      "           7       0.88      0.86      0.87      1000\n",
      "           8       0.87      0.94      0.90      1000\n",
      "           9       0.89      0.89      0.89      1000\n",
      "\n",
      "    accuracy                           0.81     10000\n",
      "   macro avg       0.82      0.82      0.81     10000\n",
      "weighted avg       0.82      0.81      0.81     10000\n",
      "\n",
      "[[765   2  21  31   6   3 145   0  25   2]\n",
      " [  4 933  13  24   2   0  20   0   4   0]\n",
      " [ 27   0 742   5 106   1 100   0  19   0]\n",
      " [ 64  10  16 832  35   0  39   0   4   0]\n",
      " [  3   0 170  23 738   0  56   0  10   0]\n",
      " [  3   0   1   0   0 890   1  54  19  32]\n",
      " [163   1 124  18  98   1 553   0  42   0]\n",
      " [  0   0   0   0   0  64   0 864   0  72]\n",
      " [  2   0  10   7   5   8  10  11 944   3]\n",
      " [  0   0   0   0   0  36   0  52  23 889]]\n"
     ]
    }
   ],
   "metadata": {}
  },
  {
   "cell_type": "code",
   "execution_count": null,
   "source": [
    "from sklearn.neighbors import KNeighborsClassifier"
   ],
   "outputs": [],
   "metadata": {}
  },
  {
   "cell_type": "code",
   "execution_count": null,
   "source": [
    "# Train KNN Classifier on fraction of training data and tune hyperparameters\r\n",
    "def knn_model(train,test,sample_size,grid_params):\r\n",
    "    train = train.sample(sample_size)\r\n",
    "    \r\n",
    "    X_train, y_train = train.drop('label',axis=1), train['label']\r\n",
    "    X_test, y_test = test.drop('label',axis=1), test['label']\r\n",
    "    \r\n",
    "    scaler = StandardScaler()\r\n",
    "    X_train = scaler.fit_transform(X_train)\r\n",
    "    X_test = scaler.transform(X_test)\r\n",
    "    \r\n",
    "    knn_grid = GridSearchCV(KNeighborsClassifier(),grid_params,refit=True,verbose=2,cv=2,n_jobs=-1)\r\n",
    "    knn_grid.fit(X_train,y_train)\r\n",
    "    \r\n",
    "    y_pred = knn_grid.predict(X_test)\r\n",
    "    \r\n",
    "    return accuracy_score(y_test,y_pred), classification_report(y_test,y_pred), confusion_matrix(y_test,y_pred)"
   ],
   "outputs": [],
   "metadata": {}
  },
  {
   "cell_type": "code",
   "execution_count": null,
   "source": [
    "# Tuning number of neighbors\r\n",
    "knn_grid_params = {'n_neighbors':[1,3,5,7,9,11]}"
   ],
   "outputs": [],
   "metadata": {}
  },
  {
   "cell_type": "code",
   "execution_count": null,
   "source": [
    "# Using 1000 / 60000 for training\r\n",
    "knn = knn_model(train,test,1000,knn_grid_params)"
   ],
   "outputs": [
    {
     "output_type": "stream",
     "name": "stdout",
     "text": [
      "Fitting 2 folds for each of 6 candidates, totalling 12 fits\n"
     ]
    }
   ],
   "metadata": {}
  },
  {
   "cell_type": "code",
   "execution_count": null,
   "source": [
    "for i in range(3):\r\n",
    "    print(knn[i])"
   ],
   "outputs": [
    {
     "output_type": "stream",
     "name": "stdout",
     "text": [
      "0.7551\n",
      "              precision    recall  f1-score   support\n",
      "\n",
      "           0       0.68      0.76      0.72      1000\n",
      "           1       0.97      0.94      0.95      1000\n",
      "           2       0.59      0.66      0.62      1000\n",
      "           3       0.75      0.86      0.80      1000\n",
      "           4       0.61      0.62      0.62      1000\n",
      "           5       0.95      0.72      0.82      1000\n",
      "           6       0.49      0.42      0.45      1000\n",
      "           7       0.78      0.86      0.82      1000\n",
      "           8       0.97      0.80      0.88      1000\n",
      "           9       0.82      0.92      0.87      1000\n",
      "\n",
      "    accuracy                           0.76     10000\n",
      "   macro avg       0.76      0.76      0.75     10000\n",
      "weighted avg       0.76      0.76      0.75     10000\n",
      "\n",
      "[[757   2  46  77  18   0  93   1   5   1]\n",
      " [ 10 941  14  24   4   0   7   0   0   0]\n",
      " [ 27   0 659   8 179   0 120   0   6   1]\n",
      " [ 47  20  18 857  25   0  32   0   1   0]\n",
      " [  7   4 163 101 617   0 107   0   1   0]\n",
      " [  5   0  19   2   0 717  14 171   3  69]\n",
      " [212   3 162  56 137   0 421   0   7   2]\n",
      " [  0   0   0   0   0  16   0 865   0 119]\n",
      " [ 39   1  32  10  22  10  50  28 796  12]\n",
      " [  2   0   2   1   3  15  10  46   0 921]]\n"
     ]
    }
   ],
   "metadata": {}
  },
  {
   "cell_type": "code",
   "execution_count": null,
   "source": [
    "from sklearn.tree import DecisionTreeClassifier"
   ],
   "outputs": [],
   "metadata": {}
  },
  {
   "cell_type": "code",
   "execution_count": null,
   "source": [
    "# Train Decision Tree Classifier on fraction of training data\r\n",
    "def dtc_model(train,test,sample_size):\r\n",
    "    train = train.sample(sample_size)\r\n",
    "    \r\n",
    "    X_train, y_train = train.drop('label',axis=1), train['label']\r\n",
    "    X_test, y_test = test.drop('label',axis=1), test['label']\r\n",
    "    \r\n",
    "    scaler = StandardScaler()\r\n",
    "    X_train = scaler.fit_transform(X_train)\r\n",
    "    X_test = scaler.transform(X_test)\r\n",
    "    \r\n",
    "    dtc = DecisionTreeClassifier()\r\n",
    "    dtc.fit(X_train,y_train)\r\n",
    "    \r\n",
    "    y_pred = dtc.predict(X_test)\r\n",
    "    \r\n",
    "    return accuracy_score(y_test,y_pred), classification_report(y_test,y_pred), confusion_matrix(y_test,y_pred)"
   ],
   "outputs": [],
   "metadata": {}
  },
  {
   "cell_type": "code",
   "execution_count": null,
   "source": [
    "# Using 1000 / 60000 examples for training\r\n",
    "dtc = dtc_model(train,test,1000)"
   ],
   "outputs": [],
   "metadata": {}
  },
  {
   "cell_type": "code",
   "execution_count": null,
   "source": [
    "for i in range(2):\r\n",
    "    print(dtc[i])"
   ],
   "outputs": [
    {
     "output_type": "stream",
     "name": "stdout",
     "text": [
      "0.6828\n",
      "              precision    recall  f1-score   support\n",
      "\n",
      "           0       0.69      0.62      0.65      1000\n",
      "           1       0.88      0.92      0.90      1000\n",
      "           2       0.54      0.57      0.55      1000\n",
      "           3       0.64      0.68      0.66      1000\n",
      "           4       0.61      0.55      0.58      1000\n",
      "           5       0.73      0.73      0.73      1000\n",
      "           6       0.46      0.46      0.46      1000\n",
      "           7       0.71      0.74      0.73      1000\n",
      "           8       0.76      0.75      0.76      1000\n",
      "           9       0.80      0.80      0.80      1000\n",
      "\n",
      "    accuracy                           0.68     10000\n",
      "   macro avg       0.68      0.68      0.68     10000\n",
      "weighted avg       0.68      0.68      0.68     10000\n",
      "\n"
     ]
    }
   ],
   "metadata": {}
  },
  {
   "cell_type": "code",
   "execution_count": null,
   "source": [
    "from sklearn.ensemble import RandomForestClassifier"
   ],
   "outputs": [],
   "metadata": {}
  },
  {
   "cell_type": "code",
   "execution_count": null,
   "source": [
    "# Train Random Forest Classifier on fraction of training data and tune hyperparameters\r\n",
    "def rfc_model(train,test,sample_size,grid_params):\r\n",
    "    train = train.sample(sample_size)\r\n",
    "    \r\n",
    "    X_train, y_train = train.drop('label',axis=1), train['label']\r\n",
    "    X_test, y_test = test.drop('label',axis=1), test['label']\r\n",
    "    \r\n",
    "    scaler = StandardScaler()\r\n",
    "    X_train = scaler.fit_transform(X_train)\r\n",
    "    X_test = scaler.transform(X_test)\r\n",
    "    \r\n",
    "    rfc_grid = GridSearchCV(RandomForestClassifier(),grid_params,refit=True,verbose=2,cv=2,n_jobs=-1)\r\n",
    "    rfc_grid.fit(X_train,y_train)\r\n",
    "    \r\n",
    "    y_pred = rfc_grid.predict(X_test)\r\n",
    "    \r\n",
    "    return accuracy_score(y_test,y_pred), classification_report(y_test,y_pred), confusion_matrix(y_test,y_pred)"
   ],
   "outputs": [],
   "metadata": {}
  },
  {
   "cell_type": "code",
   "execution_count": null,
   "source": [
    "# Tuning number of estimators\r\n",
    "rfc_grid_params = {'n_estimators':[100,200,300,400,500]}"
   ],
   "outputs": [],
   "metadata": {}
  },
  {
   "cell_type": "code",
   "execution_count": null,
   "source": [
    "# Using 1000 / 60000 examples for training\r\n",
    "rfc = rfc_model(train,test,1000,rfc_grid_params)"
   ],
   "outputs": [
    {
     "output_type": "stream",
     "name": "stdout",
     "text": [
      "Fitting 2 folds for each of 5 candidates, totalling 10 fits\n"
     ]
    }
   ],
   "metadata": {}
  },
  {
   "cell_type": "code",
   "execution_count": null,
   "source": [
    "for i in range(3):\r\n",
    "    print(rfc[i])"
   ],
   "outputs": [
    {
     "output_type": "stream",
     "name": "stdout",
     "text": [
      "0.809\n",
      "              precision    recall  f1-score   support\n",
      "\n",
      "           0       0.73      0.79      0.76      1000\n",
      "           1       0.96      0.92      0.94      1000\n",
      "           2       0.68      0.75      0.71      1000\n",
      "           3       0.79      0.89      0.84      1000\n",
      "           4       0.74      0.75      0.74      1000\n",
      "           5       0.89      0.87      0.88      1000\n",
      "           6       0.63      0.41      0.50      1000\n",
      "           7       0.86      0.85      0.85      1000\n",
      "           8       0.89      0.95      0.92      1000\n",
      "           9       0.88      0.91      0.89      1000\n",
      "\n",
      "    accuracy                           0.81     10000\n",
      "   macro avg       0.80      0.81      0.80     10000\n",
      "weighted avg       0.80      0.81      0.80     10000\n",
      "\n",
      "[[787   8  36  79   0   6  49   1  34   0]\n",
      " [  3 920  19  51   1   1   4   0   1   0]\n",
      " [  9   2 746   8 147   3  67   0  18   0]\n",
      " [ 21  26  24 894  17   1  15   0   2   0]\n",
      " [  2   3 104  47 746   1  92   0   5   0]\n",
      " [  0   0   0   2   0 874   0  70  11  43]\n",
      " [251   3 149  46  96   2 415   0  38   0]\n",
      " [  0   0   0   0   0  67   0 849   2  82]\n",
      " [  0   1  14   6   1   8  13   6 950   1]\n",
      " [  0   0   0   0   0  20   1  65   5 909]]\n"
     ]
    }
   ],
   "metadata": {}
  },
  {
   "cell_type": "code",
   "execution_count": null,
   "source": [
    "# SVC classifier most accurate and has best F1 score compared to all others with training sample = 1000\r\n",
    "# SVC also computationally faster than MLP classifier\r\n",
    "# K-Nearest Neighbors, Decision Tree, and Random Forest classifiers compute very quickly\r\n",
    "# Biggest struggle for all classifiers is distinguishing between 0 (T-shirt) and 6 (shirt)"
   ],
   "outputs": [],
   "metadata": {}
  }
 ],
 "metadata": {
  "kernelspec": {
   "name": "python3",
   "display_name": "Python 3.8.8 64-bit ('.venv')"
  },
  "language_info": {
   "codemirror_mode": {
    "name": "ipython",
    "version": 3
   },
   "file_extension": ".py",
   "mimetype": "text/x-python",
   "name": "python",
   "nbconvert_exporter": "python",
   "pygments_lexer": "ipython3",
   "version": "3.8.8"
  },
  "interpreter": {
   "hash": "d31eb3898288badf2844ec9140d216121f6630e62f5fb79b28972e142a5a89de"
  }
 },
 "nbformat": 4,
 "nbformat_minor": 5
}